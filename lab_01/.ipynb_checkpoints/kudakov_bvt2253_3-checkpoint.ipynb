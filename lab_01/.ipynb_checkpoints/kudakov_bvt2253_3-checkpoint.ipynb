{
 "cells": [
  {
   "cell_type": "code",
   "execution_count": 1,
   "id": "fa55fdb2-4217-4368-8956-2c334926dd78",
   "metadata": {},
   "outputs": [],
   "source": [
    "#          #    ######          #     #          #####\n",
    "#         # #   #     #         ##    #         #     #\n",
    "#        #   #  #     #         # #   #               #\n",
    "#       #     # ######          #  #  #          #####\n",
    "#       ####### #     #         #   # #               #\n",
    "#       #     # #     #         #    ##         #     #\n",
    "####### #     # ######          #     #          #####"
   ]
  },
  {
   "cell_type": "code",
   "execution_count": 2,
   "id": "8a29fdb3-b6f6-4697-93d1-d9fdcb05bb53",
   "metadata": {},
   "outputs": [],
   "source": [
    "import pandas as pd\n",
    "import numpy as np\n",
    "import matplotlib.pyplot as plt\n",
    "from sklearn.tree import DecisionTreeClassifier\n",
    "from sklearn.preprocessing import StandardScaler\n",
    "from sklearn.model_selection import train_test_split\n",
    "from sklearn.preprocessing import OneHotEncoder\n",
    "from sklearn.model_selection import train_test_split\n",
    "from sklearn.linear_model import LogisticRegression\n",
    "from sklearn.utils import compute_sample_weight\n",
    "from sklearn import metrics"
   ]
  },
  {
   "cell_type": "code",
   "execution_count": 3,
   "id": "92902a58-e30f-48db-9d2b-4cff6dd0851f",
   "metadata": {},
   "outputs": [
    {
     "name": "stdout",
     "output_type": "stream",
     "text": [
      "   Survey_id  Ville_id  sex  Age  Married  Number_children  education_level  \\\n",
      "0        926        91    1   28        1                4               10   \n",
      "1        747        57    1   23        1                3                8   \n",
      "2       1190       115    1   22        1                3                9   \n",
      "3       1065        97    1   27        1                2               10   \n",
      "4        806        42    0   59        0                4               10   \n",
      "\n",
      "   total_members  gained_asset  durable_asset  ...  incoming_salary  \\\n",
      "0              5      28912201       22861940  ...                0   \n",
      "1              5      28912201       22861940  ...                0   \n",
      "2              5      28912201       22861940  ...                0   \n",
      "3              4      52667108       19698904  ...                0   \n",
      "4              6      82606287       17352654  ...                1   \n",
      "\n",
      "   incoming_own_farm  incoming_business  incoming_no_business  \\\n",
      "0                  0                  0                     0   \n",
      "1                  0                  0                     0   \n",
      "2                  0                  0                     0   \n",
      "3                  1                  0                     1   \n",
      "4                  0                  0                     0   \n",
      "\n",
      "   incoming_agricultural  farm_expenses  labor_primary  lasting_investment  \\\n",
      "0               30028818       31363432              0            28411718   \n",
      "1               30028818       31363432              0            28411718   \n",
      "2               30028818       31363432              0            28411718   \n",
      "3               22288055       18751329              0             7781123   \n",
      "4               53384566       20731006              1            20100562   \n",
      "\n",
      "   no_lasting_investmen  depressed  \n",
      "0            28292707.0          0  \n",
      "1            28292707.0          1  \n",
      "2            28292707.0          0  \n",
      "3            69219765.0          0  \n",
      "4            43419447.0          0  \n",
      "\n",
      "[5 rows x 23 columns]\n"
     ]
    }
   ],
   "source": [
    "data = pd.read_csv(\"./logic.csv\")\n",
    "data.size\n",
    "print(data.head(5))\n"
   ]
  },
  {
   "cell_type": "code",
   "execution_count": 4,
   "id": "e24d9475-cc06-4c6c-ac84-a382080f0e27",
   "metadata": {},
   "outputs": [
    {
     "name": "stdout",
     "output_type": "stream",
     "text": [
      "<class 'pandas.core.frame.DataFrame'>\n",
      "RangeIndex: 1429 entries, 0 to 1428\n",
      "Data columns (total 23 columns):\n",
      " #   Column                 Non-Null Count  Dtype  \n",
      "---  ------                 --------------  -----  \n",
      " 0   Survey_id              1429 non-null   int64  \n",
      " 1   Ville_id               1429 non-null   int64  \n",
      " 2   sex                    1429 non-null   int64  \n",
      " 3   Age                    1429 non-null   int64  \n",
      " 4   Married                1429 non-null   int64  \n",
      " 5   Number_children        1429 non-null   int64  \n",
      " 6   education_level        1429 non-null   int64  \n",
      " 7   total_members          1429 non-null   int64  \n",
      " 8   gained_asset           1429 non-null   int64  \n",
      " 9   durable_asset          1429 non-null   int64  \n",
      " 10  save_asset             1429 non-null   int64  \n",
      " 11  living_expenses        1429 non-null   int64  \n",
      " 12  other_expenses         1429 non-null   int64  \n",
      " 13  incoming_salary        1429 non-null   int64  \n",
      " 14  incoming_own_farm      1429 non-null   int64  \n",
      " 15  incoming_business      1429 non-null   int64  \n",
      " 16  incoming_no_business   1429 non-null   int64  \n",
      " 17  incoming_agricultural  1429 non-null   int64  \n",
      " 18  farm_expenses          1429 non-null   int64  \n",
      " 19  labor_primary          1429 non-null   int64  \n",
      " 20  lasting_investment     1429 non-null   int64  \n",
      " 21  no_lasting_investmen   1409 non-null   float64\n",
      " 22  depressed              1429 non-null   int64  \n",
      "dtypes: float64(1), int64(22)\n",
      "memory usage: 256.9 KB\n"
     ]
    }
   ],
   "source": [
    "data.info(verbose='true', show_counts='true')"
   ]
  },
  {
   "cell_type": "code",
   "execution_count": 5,
   "id": "f70d8a2c-f9ab-44e5-beb4-674fd32cffc0",
   "metadata": {},
   "outputs": [
    {
     "data": {
      "text/plain": [
       "Survey_id                  int64\n",
       "Ville_id                   int64\n",
       "sex                        int64\n",
       "Age                        int64\n",
       "Married                    int64\n",
       "Number_children            int64\n",
       "education_level            int64\n",
       "total_members              int64\n",
       "gained_asset               int64\n",
       "durable_asset              int64\n",
       "save_asset                 int64\n",
       "living_expenses            int64\n",
       "other_expenses             int64\n",
       "incoming_salary            int64\n",
       "incoming_own_farm          int64\n",
       "incoming_business          int64\n",
       "incoming_no_business       int64\n",
       "incoming_agricultural      int64\n",
       "farm_expenses              int64\n",
       "labor_primary              int64\n",
       "lasting_investment         int64\n",
       "no_lasting_investmen     float64\n",
       "depressed                  int64\n",
       "dtype: object"
      ]
     },
     "execution_count": 5,
     "metadata": {},
     "output_type": "execute_result"
    }
   ],
   "source": [
    "data.dtypes"
   ]
  },
  {
   "cell_type": "code",
   "execution_count": 6,
   "id": "b82de364-44aa-427d-accd-6bc9124bc895",
   "metadata": {},
   "outputs": [
    {
     "name": "stdout",
     "output_type": "stream",
     "text": [
      "Survey_id                 0\n",
      "Ville_id                  0\n",
      "sex                       0\n",
      "Age                       0\n",
      "Married                   0\n",
      "Number_children           0\n",
      "education_level           0\n",
      "total_members             0\n",
      "gained_asset              0\n",
      "durable_asset             0\n",
      "save_asset                0\n",
      "living_expenses           0\n",
      "other_expenses            0\n",
      "incoming_salary           0\n",
      "incoming_own_farm         0\n",
      "incoming_business         0\n",
      "incoming_no_business      0\n",
      "incoming_agricultural     0\n",
      "farm_expenses             0\n",
      "labor_primary             0\n",
      "lasting_investment        0\n",
      "no_lasting_investmen     20\n",
      "depressed                 0\n",
      "dtype: int64\n"
     ]
    }
   ],
   "source": [
    "print  (data.isna().sum()) #check nan values "
   ]
  },
  {
   "cell_type": "code",
   "execution_count": 7,
   "id": "16827712-7cf4-4ce9-af00-037b1dbd402b",
   "metadata": {},
   "outputs": [
    {
     "name": "stdout",
     "output_type": "stream",
     "text": [
      "Number of duplicates: 0\n"
     ]
    }
   ],
   "source": [
    "duplicates = data.duplicated()\n",
    "print(\"Number of duplicates:\", duplicates.sum())"
   ]
  },
  {
   "cell_type": "code",
   "execution_count": 8,
   "id": "127fb5d7-fa79-4d29-a255-aff50c7e604b",
   "metadata": {},
   "outputs": [],
   "source": [
    "data = data.dropna()\n",
    "data = data.drop(['Survey_id', 'Ville_id'], axis=1) # подготавливаем и удалем ненужные данные"
   ]
  },
  {
   "cell_type": "code",
   "execution_count": 9,
   "id": "9ee7f1a2-6e46-4a2c-89a8-d64dcf132843",
   "metadata": {},
   "outputs": [
    {
     "name": "stdout",
     "output_type": "stream",
     "text": [
      "   sex  Age  Married  Number_children  education_level  total_members  \\\n",
      "0    1   28        1                4               10              5   \n",
      "1    1   23        1                3                8              5   \n",
      "\n",
      "   gained_asset  durable_asset  save_asset  living_expenses  ...  \\\n",
      "0      28912201       22861940    23399979         26692283  ...   \n",
      "1      28912201       22861940    23399979         26692283  ...   \n",
      "\n",
      "   incoming_salary  incoming_own_farm  incoming_business  \\\n",
      "0                0                  0                  0   \n",
      "1                0                  0                  0   \n",
      "\n",
      "   incoming_no_business  incoming_agricultural  farm_expenses  labor_primary  \\\n",
      "0                     0               30028818       31363432              0   \n",
      "1                     0               30028818       31363432              0   \n",
      "\n",
      "   lasting_investment  no_lasting_investmen  depressed  \n",
      "0            28411718            28292707.0          0  \n",
      "1            28411718            28292707.0          1  \n",
      "\n",
      "[2 rows x 21 columns]\n"
     ]
    }
   ],
   "source": [
    "print(data.head(2))"
   ]
  },
  {
   "cell_type": "code",
   "execution_count": 10,
   "id": "6f71878d-d0a7-42b3-87a9-7b76880c5ba5",
   "metadata": {},
   "outputs": [
    {
     "name": "stdout",
     "output_type": "stream",
     "text": [
      "      sex  Age  Married  Number_children  education_level  total_members  \\\n",
      "0       1   28        1                4               10              5   \n",
      "1       1   23        1                3                8              5   \n",
      "2       1   22        1                3                9              5   \n",
      "3       1   27        1                2               10              4   \n",
      "4       0   59        0                4               10              6   \n",
      "...   ...  ...      ...              ...              ...            ...   \n",
      "1424    1   25        1                1                7              5   \n",
      "1425    1   28        1                4               10              6   \n",
      "1426    1   66        0                0                1              1   \n",
      "1427    1   51        1                1               12              5   \n",
      "1428    1   33        0                4                8              5   \n",
      "\n",
      "      gained_asset  durable_asset  save_asset  living_expenses  \\\n",
      "0         28912201       22861940    23399979         26692283   \n",
      "1         28912201       22861940    23399979         26692283   \n",
      "2         28912201       22861940    23399979         26692283   \n",
      "3         52667108       19698904    49647648           397715   \n",
      "4         82606287       17352654    23399979         80877619   \n",
      "...            ...            ...         ...              ...   \n",
      "1424      28912201       22861940    23399979         26692283   \n",
      "1425      15711078       24023054    15506558         10476722   \n",
      "1426      42440731       22861940    22562605         12545372   \n",
      "1427      28912201       22861940    23399979         26692283   \n",
      "1428      81678391       22861940    47855984         10289875   \n",
      "\n",
      "      other_expenses  incoming_salary  incoming_own_farm  incoming_business  \\\n",
      "0           28203066                0                  0                  0   \n",
      "1           28203066                0                  0                  0   \n",
      "2           28203066                0                  0                  0   \n",
      "3           44042267                0                  1                  0   \n",
      "4           74503502                1                  0                  0   \n",
      "...              ...              ...                ...                ...   \n",
      "1424        28203066                0                  0                  0   \n",
      "1425        71588707                0                  1                  0   \n",
      "1426        56534257                0                  1                  0   \n",
      "1427        28203066                0                  0                  0   \n",
      "1428        10730298                0                  1                  0   \n",
      "\n",
      "      incoming_no_business  incoming_agricultural  farm_expenses  \\\n",
      "0                        0               30028818       31363432   \n",
      "1                        0               30028818       31363432   \n",
      "2                        0               30028818       31363432   \n",
      "3                        1               22288055       18751329   \n",
      "4                        0               53384566       20731006   \n",
      "...                    ...                    ...            ...   \n",
      "1424                     0               30028818       31363432   \n",
      "1425                     0               23022095        1021536   \n",
      "1426                     0               12545373       10454478   \n",
      "1427                     0               30028818       31363432   \n",
      "1428                     1               20019212       16682677   \n",
      "\n",
      "      labor_primary  lasting_investment  no_lasting_investmen  \n",
      "0                 0            28411718            28292707.0  \n",
      "1                 0            28411718            28292707.0  \n",
      "2                 0            28411718            28292707.0  \n",
      "3                 0             7781123            69219765.0  \n",
      "4                 1            20100562            43419447.0  \n",
      "...             ...                 ...                   ...  \n",
      "1424              0            28411718            28292707.0  \n",
      "1425              0             1823477            47384361.0  \n",
      "1426              0            46444572            10454478.0  \n",
      "1427              0            28411718            28292707.0  \n",
      "1428              0            69642126            13012488.0  \n",
      "\n",
      "[1409 rows x 20 columns]\n"
     ]
    }
   ],
   "source": [
    "target = data['depressed']\n",
    "features = data.drop('depressed' , axis =1)\n",
    "print (features)"
   ]
  },
  {
   "cell_type": "code",
   "execution_count": 11,
   "id": "cade3653-aa05-4584-a7b7-a2d0345f0cd1",
   "metadata": {},
   "outputs": [],
   "source": [
    "scaler = StandardScaler()\n",
    "features_fit = scaler.fit_transform(features)\n",
    "# решил сразу отсклейлить все , \n",
    "\n",
    "\n",
    "data_train, data_test, target_train, target_test = train_test_split(features, target, test_size = 0.3, random_state = 32)\n",
    "\n",
    "#data_train_scaler = scaler.fit_transform(X = data_train)\n",
    "#data_test_scaler = scaler.fit_transform(X = data_test)\n",
    "\n",
    "\n",
    "\n",
    "\n"
   ]
  },
  {
   "cell_type": "code",
   "execution_count": null,
   "id": "3360cbb6-df71-4363-a0e4-c53c57fe5fd2",
   "metadata": {},
   "outputs": [],
   "source": []
  },
  {
   "cell_type": "code",
   "execution_count": 12,
   "id": "2a590cbd-a698-490c-b004-5b8633573f1e",
   "metadata": {},
   "outputs": [
    {
     "data": {
      "text/html": [
       "<style>#sk-container-id-1 {color: black;}#sk-container-id-1 pre{padding: 0;}#sk-container-id-1 div.sk-toggleable {background-color: white;}#sk-container-id-1 label.sk-toggleable__label {cursor: pointer;display: block;width: 100%;margin-bottom: 0;padding: 0.3em;box-sizing: border-box;text-align: center;}#sk-container-id-1 label.sk-toggleable__label-arrow:before {content: \"▸\";float: left;margin-right: 0.25em;color: #696969;}#sk-container-id-1 label.sk-toggleable__label-arrow:hover:before {color: black;}#sk-container-id-1 div.sk-estimator:hover label.sk-toggleable__label-arrow:before {color: black;}#sk-container-id-1 div.sk-toggleable__content {max-height: 0;max-width: 0;overflow: hidden;text-align: left;background-color: #f0f8ff;}#sk-container-id-1 div.sk-toggleable__content pre {margin: 0.2em;color: black;border-radius: 0.25em;background-color: #f0f8ff;}#sk-container-id-1 input.sk-toggleable__control:checked~div.sk-toggleable__content {max-height: 200px;max-width: 100%;overflow: auto;}#sk-container-id-1 input.sk-toggleable__control:checked~label.sk-toggleable__label-arrow:before {content: \"▾\";}#sk-container-id-1 div.sk-estimator input.sk-toggleable__control:checked~label.sk-toggleable__label {background-color: #d4ebff;}#sk-container-id-1 div.sk-label input.sk-toggleable__control:checked~label.sk-toggleable__label {background-color: #d4ebff;}#sk-container-id-1 input.sk-hidden--visually {border: 0;clip: rect(1px 1px 1px 1px);clip: rect(1px, 1px, 1px, 1px);height: 1px;margin: -1px;overflow: hidden;padding: 0;position: absolute;width: 1px;}#sk-container-id-1 div.sk-estimator {font-family: monospace;background-color: #f0f8ff;border: 1px dotted black;border-radius: 0.25em;box-sizing: border-box;margin-bottom: 0.5em;}#sk-container-id-1 div.sk-estimator:hover {background-color: #d4ebff;}#sk-container-id-1 div.sk-parallel-item::after {content: \"\";width: 100%;border-bottom: 1px solid gray;flex-grow: 1;}#sk-container-id-1 div.sk-label:hover label.sk-toggleable__label {background-color: #d4ebff;}#sk-container-id-1 div.sk-serial::before {content: \"\";position: absolute;border-left: 1px solid gray;box-sizing: border-box;top: 0;bottom: 0;left: 50%;z-index: 0;}#sk-container-id-1 div.sk-serial {display: flex;flex-direction: column;align-items: center;background-color: white;padding-right: 0.2em;padding-left: 0.2em;position: relative;}#sk-container-id-1 div.sk-item {position: relative;z-index: 1;}#sk-container-id-1 div.sk-parallel {display: flex;align-items: stretch;justify-content: center;background-color: white;position: relative;}#sk-container-id-1 div.sk-item::before, #sk-container-id-1 div.sk-parallel-item::before {content: \"\";position: absolute;border-left: 1px solid gray;box-sizing: border-box;top: 0;bottom: 0;left: 50%;z-index: -1;}#sk-container-id-1 div.sk-parallel-item {display: flex;flex-direction: column;z-index: 1;position: relative;background-color: white;}#sk-container-id-1 div.sk-parallel-item:first-child::after {align-self: flex-end;width: 50%;}#sk-container-id-1 div.sk-parallel-item:last-child::after {align-self: flex-start;width: 50%;}#sk-container-id-1 div.sk-parallel-item:only-child::after {width: 0;}#sk-container-id-1 div.sk-dashed-wrapped {border: 1px dashed gray;margin: 0 0.4em 0.5em 0.4em;box-sizing: border-box;padding-bottom: 0.4em;background-color: white;}#sk-container-id-1 div.sk-label label {font-family: monospace;font-weight: bold;display: inline-block;line-height: 1.2em;}#sk-container-id-1 div.sk-label-container {text-align: center;}#sk-container-id-1 div.sk-container {/* jupyter's `normalize.less` sets `[hidden] { display: none; }` but bootstrap.min.css set `[hidden] { display: none !important; }` so we also need the `!important` here to be able to override the default hidden behavior on the sphinx rendered scikit-learn.org. See: https://github.com/scikit-learn/scikit-learn/issues/21755 */display: inline-block !important;position: relative;}#sk-container-id-1 div.sk-text-repr-fallback {display: none;}</style><div id=\"sk-container-id-1\" class=\"sk-top-container\"><div class=\"sk-text-repr-fallback\"><pre>LogisticRegression()</pre><b>In a Jupyter environment, please rerun this cell to show the HTML representation or trust the notebook. <br />On GitHub, the HTML representation is unable to render, please try loading this page with nbviewer.org.</b></div><div class=\"sk-container\" hidden><div class=\"sk-item\"><div class=\"sk-estimator sk-toggleable\"><input class=\"sk-toggleable__control sk-hidden--visually\" id=\"sk-estimator-id-1\" type=\"checkbox\" checked><label for=\"sk-estimator-id-1\" class=\"sk-toggleable__label sk-toggleable__label-arrow\">LogisticRegression</label><div class=\"sk-toggleable__content\"><pre>LogisticRegression()</pre></div></div></div></div></div>"
      ],
      "text/plain": [
       "LogisticRegression()"
      ]
     },
     "execution_count": 12,
     "metadata": {},
     "output_type": "execute_result"
    }
   ],
   "source": [
    "log_reg = LogisticRegression()\n",
    "log_reg.fit(data_train, target_train) "
   ]
  },
  {
   "cell_type": "code",
   "execution_count": 13,
   "id": "37c99378-7099-4bb4-b6e9-27ef3456f53f",
   "metadata": {},
   "outputs": [],
   "source": [
    "pred = log_reg.predict(data_test)"
   ]
  },
  {
   "cell_type": "code",
   "execution_count": 14,
   "id": "ce5d9996-7dfb-4756-a897-b5b99b942db4",
   "metadata": {},
   "outputs": [
    {
     "name": "stdout",
     "output_type": "stream",
     "text": [
      "[0 0 0 0 0 0 0 0 0 0 0 0 0 0 0 0 0 0 0 0 0 0 0 0 0 0 0 0 0 0 0 0 0 0 0 0 0\n",
      " 0 0 0 0 0 0 0 0 0 0 0 0 0 0 0 0 0 0 0 0 0 0 0 0 0 0 0 0 0 0 0 0 0 0 0 0 0\n",
      " 0 0 0 0 0 0 0 0 0 0 0 0 0 0 0 0 0 0 0 0 0 0 0 0 0 0 0 0 0 0 0 0 0 0 0 0 0\n",
      " 0 0 0 0 0 0 0 0 0 0 0 0 0 0 0 0 0 0 0 0 0 0 0 0 0 0 0 0 0 0 0 0 0 0 0 0 0\n",
      " 0 0 0 0 0 0 0 0 0 0 0 0 0 0 0 0 0 0 0 0 0 0 0 0 0 0 0 0 0 0 0 0 0 0 0 0 0\n",
      " 0 0 0 0 0 0 0 0 0 0 0 0 0 0 0 0 0 0 0 0 0 0 0 0 0 0 0 0 0 0 0 0 0 0 0 0 0\n",
      " 0 0 0 0 0 0 0 0 0 0 0 0 0 0 0 0 0 0 0 0 0 0 0 0 0 0 0 0 0 0 0 0 0 0 0 0 0\n",
      " 0 0 0 0 0 0 0 0 0 0 0 0 0 0 0 0 0 0 0 0 0 0 0 0 0 0 0 0 0 0 0 0 0 0 0 0 0\n",
      " 0 0 0 0 0 0 0 0 0 0 0 0 0 0 0 0 0 0 0 0 0 0 0 0 0 0 0 0 0 0 0 0 0 0 0 0 0\n",
      " 0 0 0 0 0 0 0 0 0 0 0 0 0 0 0 0 0 0 0 0 0 0 0 0 0 0 0 0 0 0 0 0 0 0 0 0 0\n",
      " 0 0 0 0 0 0 0 0 0 0 0 0 0 0 0 0 0 0 0 0 0 0 0 0 0 0 0 0 0 0 0 0 0 0 0 0 0\n",
      " 0 0 0 0 0 0 0 0 0 0 0 0 0 0 0 0]\n"
     ]
    }
   ],
   "source": [
    "print(pred)"
   ]
  },
  {
   "cell_type": "code",
   "execution_count": 15,
   "id": "d3d6b3a4-8958-4d1a-b291-271aab1d7efd",
   "metadata": {},
   "outputs": [
    {
     "name": "stdout",
     "output_type": "stream",
     "text": [
      "1296    0\n",
      "1354    0\n",
      "1352    0\n",
      "25      0\n",
      "112     0\n",
      "       ..\n",
      "885     0\n",
      "678     1\n",
      "1226    0\n",
      "7       0\n",
      "883     1\n",
      "Name: depressed, Length: 423, dtype: int64\n"
     ]
    }
   ],
   "source": [
    "print(target_test)# мнда..........."
   ]
  },
  {
   "cell_type": "code",
   "execution_count": 16,
   "id": "e2601e25-a16f-4e68-8bc8-93d8fc571c5a",
   "metadata": {},
   "outputs": [],
   "source": [
    "cnf_mat = metrics.confusion_matrix(pred, target_test)"
   ]
  },
  {
   "cell_type": "code",
   "execution_count": 17,
   "id": "a0e418ec-73e6-4272-9d83-936bddece057",
   "metadata": {},
   "outputs": [
    {
     "name": "stdout",
     "output_type": "stream",
     "text": [
      "[[345  78]\n",
      " [  0   0]]\n",
      "Accuracy:  0.8156028368794326\n"
     ]
    }
   ],
   "source": [
    "print (cnf_mat) \n",
    "print(\"Accuracy: \" , metrics.accuracy_score(pred, target_test))"
   ]
  },
  {
   "cell_type": "code",
   "execution_count": 18,
   "id": "48f68072-9f06-4b4d-8a1e-bc3da1c0985f",
   "metadata": {},
   "outputs": [
    {
     "data": {
      "text/html": [
       "<style>#sk-container-id-2 {color: black;}#sk-container-id-2 pre{padding: 0;}#sk-container-id-2 div.sk-toggleable {background-color: white;}#sk-container-id-2 label.sk-toggleable__label {cursor: pointer;display: block;width: 100%;margin-bottom: 0;padding: 0.3em;box-sizing: border-box;text-align: center;}#sk-container-id-2 label.sk-toggleable__label-arrow:before {content: \"▸\";float: left;margin-right: 0.25em;color: #696969;}#sk-container-id-2 label.sk-toggleable__label-arrow:hover:before {color: black;}#sk-container-id-2 div.sk-estimator:hover label.sk-toggleable__label-arrow:before {color: black;}#sk-container-id-2 div.sk-toggleable__content {max-height: 0;max-width: 0;overflow: hidden;text-align: left;background-color: #f0f8ff;}#sk-container-id-2 div.sk-toggleable__content pre {margin: 0.2em;color: black;border-radius: 0.25em;background-color: #f0f8ff;}#sk-container-id-2 input.sk-toggleable__control:checked~div.sk-toggleable__content {max-height: 200px;max-width: 100%;overflow: auto;}#sk-container-id-2 input.sk-toggleable__control:checked~label.sk-toggleable__label-arrow:before {content: \"▾\";}#sk-container-id-2 div.sk-estimator input.sk-toggleable__control:checked~label.sk-toggleable__label {background-color: #d4ebff;}#sk-container-id-2 div.sk-label input.sk-toggleable__control:checked~label.sk-toggleable__label {background-color: #d4ebff;}#sk-container-id-2 input.sk-hidden--visually {border: 0;clip: rect(1px 1px 1px 1px);clip: rect(1px, 1px, 1px, 1px);height: 1px;margin: -1px;overflow: hidden;padding: 0;position: absolute;width: 1px;}#sk-container-id-2 div.sk-estimator {font-family: monospace;background-color: #f0f8ff;border: 1px dotted black;border-radius: 0.25em;box-sizing: border-box;margin-bottom: 0.5em;}#sk-container-id-2 div.sk-estimator:hover {background-color: #d4ebff;}#sk-container-id-2 div.sk-parallel-item::after {content: \"\";width: 100%;border-bottom: 1px solid gray;flex-grow: 1;}#sk-container-id-2 div.sk-label:hover label.sk-toggleable__label {background-color: #d4ebff;}#sk-container-id-2 div.sk-serial::before {content: \"\";position: absolute;border-left: 1px solid gray;box-sizing: border-box;top: 0;bottom: 0;left: 50%;z-index: 0;}#sk-container-id-2 div.sk-serial {display: flex;flex-direction: column;align-items: center;background-color: white;padding-right: 0.2em;padding-left: 0.2em;position: relative;}#sk-container-id-2 div.sk-item {position: relative;z-index: 1;}#sk-container-id-2 div.sk-parallel {display: flex;align-items: stretch;justify-content: center;background-color: white;position: relative;}#sk-container-id-2 div.sk-item::before, #sk-container-id-2 div.sk-parallel-item::before {content: \"\";position: absolute;border-left: 1px solid gray;box-sizing: border-box;top: 0;bottom: 0;left: 50%;z-index: -1;}#sk-container-id-2 div.sk-parallel-item {display: flex;flex-direction: column;z-index: 1;position: relative;background-color: white;}#sk-container-id-2 div.sk-parallel-item:first-child::after {align-self: flex-end;width: 50%;}#sk-container-id-2 div.sk-parallel-item:last-child::after {align-self: flex-start;width: 50%;}#sk-container-id-2 div.sk-parallel-item:only-child::after {width: 0;}#sk-container-id-2 div.sk-dashed-wrapped {border: 1px dashed gray;margin: 0 0.4em 0.5em 0.4em;box-sizing: border-box;padding-bottom: 0.4em;background-color: white;}#sk-container-id-2 div.sk-label label {font-family: monospace;font-weight: bold;display: inline-block;line-height: 1.2em;}#sk-container-id-2 div.sk-label-container {text-align: center;}#sk-container-id-2 div.sk-container {/* jupyter's `normalize.less` sets `[hidden] { display: none; }` but bootstrap.min.css set `[hidden] { display: none !important; }` so we also need the `!important` here to be able to override the default hidden behavior on the sphinx rendered scikit-learn.org. See: https://github.com/scikit-learn/scikit-learn/issues/21755 */display: inline-block !important;position: relative;}#sk-container-id-2 div.sk-text-repr-fallback {display: none;}</style><div id=\"sk-container-id-2\" class=\"sk-top-container\"><div class=\"sk-text-repr-fallback\"><pre>LogisticRegression()</pre><b>In a Jupyter environment, please rerun this cell to show the HTML representation or trust the notebook. <br />On GitHub, the HTML representation is unable to render, please try loading this page with nbviewer.org.</b></div><div class=\"sk-container\" hidden><div class=\"sk-item\"><div class=\"sk-estimator sk-toggleable\"><input class=\"sk-toggleable__control sk-hidden--visually\" id=\"sk-estimator-id-2\" type=\"checkbox\" checked><label for=\"sk-estimator-id-2\" class=\"sk-toggleable__label sk-toggleable__label-arrow\">LogisticRegression</label><div class=\"sk-toggleable__content\"><pre>LogisticRegression()</pre></div></div></div></div></div>"
      ],
      "text/plain": [
       "LogisticRegression()"
      ]
     },
     "execution_count": 18,
     "metadata": {},
     "output_type": "execute_result"
    }
   ],
   "source": [
    "# балансировка\n",
    "sample_weights = compute_sample_weight(\"balanced\", data_train)\n",
    "log_reg.fit(data_train, target_train, sample_weight=sample_weights)"
   ]
  },
  {
   "cell_type": "code",
   "execution_count": 19,
   "id": "03a79838-d663-4bc8-ad67-3037a3cf5393",
   "metadata": {},
   "outputs": [
    {
     "name": "stdout",
     "output_type": "stream",
     "text": [
      "[[734 145]\n",
      " [ 95  12]]\n"
     ]
    }
   ],
   "source": [
    "pred_train  =  log_reg.predict(data_train)\n",
    "cnf_mat_tr =  metrics.confusion_matrix(pred_train, target_train)\n",
    "print(cnf_mat_tr)"
   ]
  },
  {
   "cell_type": "code",
   "execution_count": 20,
   "id": "c8463cfc-5a60-4975-b712-455015616dea",
   "metadata": {},
   "outputs": [],
   "source": [
    "acuracy_train = metrics.accuracy_score(pred_train, target_train)\n",
    "precision_train = metrics.precision_score(pred_train, target_train)\n",
    "recall_train = metrics.recall_score(pred_train, target_train)\n",
    "f1_train = metrics.f1_score(pred_train, target_train)"
   ]
  },
  {
   "cell_type": "code",
   "execution_count": 21,
   "id": "e9338824-69a2-41da-b5bd-4137be687821",
   "metadata": {},
   "outputs": [
    {
     "name": "stdout",
     "output_type": "stream",
     "text": [
      "check accurasy\n",
      "0.7565922920892495 == 0.7565922920892495\n",
      "check precision\n",
      "0.07643312101910828 == 0.07643312101910828\n",
      "check recall \n",
      "0.11214953271028037 == 0.11214953271028037\n",
      "check f1 \n",
      "0.09090909090909091 == 0.09090909090909091\n"
     ]
    }
   ],
   "source": [
    "tn, fp, fn, tp  = cnf_mat_tr.ravel()\n",
    "all = tn+ fp+ fn + tp\n",
    "\n",
    "\n",
    "print(\"check accurasy\")\n",
    "my_accurasy =  (tp+tn)/all\n",
    "print (my_accurasy, \"==\", acuracy_train)\n",
    "print(\"check precision\")\n",
    "my_precision = tp/(tp+fp)\n",
    "print (my_precision, \"==\", precision_train)\n",
    "\n",
    "print(\"check recall \")\n",
    "my_recall = tp/(tp+fn)\n",
    "print (my_recall, \"==\", recall_train)\n",
    "\n",
    "print(\"check f1 \")\n",
    "my_f1 =   2*(my_precision * my_recall) / (my_precision + my_recall)\n",
    "print (my_f1, \"==\", f1_train)"
   ]
  },
  {
   "cell_type": "code",
   "execution_count": null,
   "id": "f768e368-3422-4436-9b63-83c42f33715f",
   "metadata": {},
   "outputs": [],
   "source": []
  },
  {
   "cell_type": "code",
   "execution_count": null,
   "id": "387886f2-8099-4d1a-aeab-e3c52cac57f6",
   "metadata": {},
   "outputs": [],
   "source": []
  },
  {
   "cell_type": "code",
   "execution_count": 22,
   "id": "9cce6ed0-27a4-4ed6-a3d9-54f550db964a",
   "metadata": {},
   "outputs": [],
   "source": [
    "pred_2 =  log_reg.predict(data_test)"
   ]
  },
  {
   "cell_type": "code",
   "execution_count": 23,
   "id": "497a8f0a-f98e-40b6-af53-0d28cca3ec12",
   "metadata": {},
   "outputs": [],
   "source": [
    "cnf_mat_2 = metrics.confusion_matrix(pred_2, target_test)"
   ]
  },
  {
   "cell_type": "code",
   "execution_count": 24,
   "id": "68e90a70-62a0-4f27-a64c-637b82247170",
   "metadata": {},
   "outputs": [
    {
     "name": "stdout",
     "output_type": "stream",
     "text": [
      "[[345  78]\n",
      " [  0   0]]\n",
      "Accuracy:  0.7494089834515366\n"
     ]
    }
   ],
   "source": [
    "print (cnf_mat) \n",
    "print(\"Accuracy: \" , metrics.accuracy_score(pred_2, target_test))"
   ]
  },
  {
   "cell_type": "code",
   "execution_count": 25,
   "id": "4691727c-1b51-4ee2-93b8-4015da9b0c58",
   "metadata": {},
   "outputs": [],
   "source": [
    "acurasy_s = metrics.accuracy_score(pred_2, target_test)\n",
    "precision_s = metrics.precision_score(pred_2, target_test)\n",
    "recall_s = metrics.recall_score(pred_2, target_test)\n",
    "f1_s = metrics.f1_score(pred_2, target_test)"
   ]
  },
  {
   "cell_type": "code",
   "execution_count": 26,
   "id": "9575bd3a-5ada-41e5-9a0f-b5e6cfb6b14c",
   "metadata": {},
   "outputs": [],
   "source": [
    "# TP  FP \n",
    "# FN  TN\n",
    "tn, fp, fn, tp  = cnf_mat_2.ravel()\n",
    "all = tn+ fp+ fn + tp"
   ]
  },
  {
   "cell_type": "code",
   "execution_count": 27,
   "id": "fe539af7-82c5-4651-8a20-0ff9cc937c02",
   "metadata": {},
   "outputs": [],
   "source": [
    "my_accurasy =  (tp+tn)/all"
   ]
  },
  {
   "cell_type": "code",
   "execution_count": 28,
   "id": "126ad0d8-40c0-4459-a234-a79d4c27c4c9",
   "metadata": {},
   "outputs": [
    {
     "name": "stdout",
     "output_type": "stream",
     "text": [
      "0.7494089834515366 == 0.7494089834515366\n"
     ]
    }
   ],
   "source": [
    "print (my_accurasy, \"==\", acurasy_s)\n"
   ]
  },
  {
   "cell_type": "code",
   "execution_count": 29,
   "id": "d829d6fb-ed63-45c1-b405-9e0f58f5d90e",
   "metadata": {},
   "outputs": [],
   "source": [
    "my_precision = tp/(tp+fp)"
   ]
  },
  {
   "cell_type": "code",
   "execution_count": 30,
   "id": "ffa14a7e-9aa7-44cb-8259-91943e4520a7",
   "metadata": {},
   "outputs": [
    {
     "name": "stdout",
     "output_type": "stream",
     "text": [
      "0.08974358974358974 == 0.08974358974358974\n"
     ]
    }
   ],
   "source": [
    "print (my_precision, \"==\", precision_s)"
   ]
  },
  {
   "cell_type": "code",
   "execution_count": 31,
   "id": "6fd583e4-6b90-4d1d-955a-095fb080699e",
   "metadata": {},
   "outputs": [],
   "source": [
    "my_recall = tp/(tp+fn)"
   ]
  },
  {
   "cell_type": "code",
   "execution_count": 32,
   "id": "e327320e-a818-446d-bd26-f423211f625d",
   "metadata": {},
   "outputs": [
    {
     "name": "stdout",
     "output_type": "stream",
     "text": [
      "0.16666666666666666 == 0.16666666666666666\n"
     ]
    }
   ],
   "source": [
    "print (my_recall, \"==\", recall_s)"
   ]
  },
  {
   "cell_type": "code",
   "execution_count": 33,
   "id": "03b1e328-6bdb-481c-8831-4493e611a5ab",
   "metadata": {},
   "outputs": [],
   "source": [
    "my_f1 =   2*(my_precision * my_recall) / (my_precision + my_recall)"
   ]
  },
  {
   "cell_type": "code",
   "execution_count": 34,
   "id": "c6d5f550-e9ca-47d4-a516-57b2fa7ee578",
   "metadata": {},
   "outputs": [
    {
     "name": "stdout",
     "output_type": "stream",
     "text": [
      "0.11666666666666667 == 0.11666666666666667\n"
     ]
    }
   ],
   "source": [
    "print (my_f1, \"==\", f1_s)"
   ]
  },
  {
   "cell_type": "code",
   "execution_count": null,
   "id": "dd16c8b3-21a3-4135-80f1-bbcc40dc496c",
   "metadata": {},
   "outputs": [],
   "source": []
  }
 ],
 "metadata": {
  "kernelspec": {
   "display_name": "Python 3 (ipykernel)",
   "language": "python",
   "name": "python3"
  },
  "language_info": {
   "codemirror_mode": {
    "name": "ipython",
    "version": 3
   },
   "file_extension": ".py",
   "mimetype": "text/x-python",
   "name": "python",
   "nbconvert_exporter": "python",
   "pygments_lexer": "ipython3",
   "version": "3.10.12"
  }
 },
 "nbformat": 4,
 "nbformat_minor": 5
}

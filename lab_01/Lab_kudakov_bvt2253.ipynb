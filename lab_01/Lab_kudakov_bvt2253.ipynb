{
 "cells": [
  {
   "cell_type": "code",
   "execution_count": 1,
   "id": "26ca6741-16df-4161-af08-aa1f27be578b",
   "metadata": {},
   "outputs": [],
   "source": [
    "import pandas as pd\n",
    "import numpy as np\n",
    "import matplotlib.pyplot as plt\n"
   ]
  },
  {
   "cell_type": "code",
   "execution_count": 2,
   "id": "920e0a8a-560c-46c7-bc15-443bab13af6b",
   "metadata": {},
   "outputs": [],
   "source": [
    "data = pd.read_csv(\"./Airpollution.csv\")"
   ]
  },
  {
   "cell_type": "code",
   "execution_count": 3,
   "id": "35394d08-b98e-4c2e-b8c5-e8efd5c294dc",
   "metadata": {},
   "outputs": [
    {
     "data": {
      "text/plain": [
       "281556"
      ]
     },
     "execution_count": 3,
     "metadata": {},
     "output_type": "execute_result"
    }
   ],
   "source": [
    "data.size\n"
   ]
  },
  {
   "cell_type": "code",
   "execution_count": 4,
   "id": "91ec8d1d-1da9-46cc-bd6f-9c3bd809d547",
   "metadata": {},
   "outputs": [
    {
     "name": "stdout",
     "output_type": "stream",
     "text": [
      "                    Country              City  AQI Value   \n",
      "0        Russian Federation        Praskoveya         51  \\\n",
      "1                    Brazil  Presidente Dutra         41   \n",
      "2                     Italy   Priolo Gargallo         66   \n",
      "3                    Poland         Przasnysz         34   \n",
      "4                    France          Punaauia         22   \n",
      "5  United States of America       Punta Gorda         54   \n",
      "6                   Germany        Puttlingen         62   \n",
      "7                   Belgium             Puurs         64   \n",
      "8        Russian Federation        Pyatigorsk         54   \n",
      "9                     Egypt            Qalyub        142   \n",
      "\n",
      "                     AQI Category  CO AQI Value CO AQI Category   \n",
      "0                        Moderate             1            Good  \\\n",
      "1                            Good             1            Good   \n",
      "2                        Moderate             1            Good   \n",
      "3                            Good             1            Good   \n",
      "4                            Good             0            Good   \n",
      "5                        Moderate             1            Good   \n",
      "6                        Moderate             1            Good   \n",
      "7                        Moderate             1            Good   \n",
      "8                        Moderate             1            Good   \n",
      "9  Unhealthy for Sensitive Groups             3            Good   \n",
      "\n",
      "   Ozone AQI Value Ozone AQI Category  NO2 AQI Value NO2 AQI Category   \n",
      "0               36               Good              0             Good  \\\n",
      "1                5               Good              1             Good   \n",
      "2               39               Good              2             Good   \n",
      "3               34               Good              0             Good   \n",
      "4               22               Good              0             Good   \n",
      "5               14               Good             11             Good   \n",
      "6               35               Good              3             Good   \n",
      "7               29               Good              7             Good   \n",
      "8               41               Good              1             Good   \n",
      "9               89           Moderate              9             Good   \n",
      "\n",
      "   PM2.5 AQI Value              PM2.5 AQI Category  \n",
      "0               51                        Moderate  \n",
      "1               41                            Good  \n",
      "2               66                        Moderate  \n",
      "3               20                            Good  \n",
      "4                6                            Good  \n",
      "5               54                        Moderate  \n",
      "6               62                        Moderate  \n",
      "7               64                        Moderate  \n",
      "8               54                        Moderate  \n",
      "9              142  Unhealthy for Sensitive Groups  \n"
     ]
    }
   ],
   "source": [
    "#вывод первые 10 строк\n",
    "print(data.head(10))"
   ]
  },
  {
   "cell_type": "code",
   "execution_count": 5,
   "id": "237f8b56-d8a7-4a4f-971e-c4aab74fa431",
   "metadata": {},
   "outputs": [
    {
     "name": "stdout",
     "output_type": "stream",
     "text": [
      "<class 'pandas.core.frame.DataFrame'>\n",
      "RangeIndex: 23463 entries, 0 to 23462\n",
      "Data columns (total 12 columns):\n",
      " #   Column              Non-Null Count  Dtype \n",
      "---  ------              --------------  ----- \n",
      " 0   Country             23036 non-null  object\n",
      " 1   City                23462 non-null  object\n",
      " 2   AQI Value           23463 non-null  int64 \n",
      " 3   AQI Category        23463 non-null  object\n",
      " 4   CO AQI Value        23463 non-null  int64 \n",
      " 5   CO AQI Category     23463 non-null  object\n",
      " 6   Ozone AQI Value     23463 non-null  int64 \n",
      " 7   Ozone AQI Category  23463 non-null  object\n",
      " 8   NO2 AQI Value       23463 non-null  int64 \n",
      " 9   NO2 AQI Category    23463 non-null  object\n",
      " 10  PM2.5 AQI Value     23463 non-null  int64 \n",
      " 11  PM2.5 AQI Category  23463 non-null  object\n",
      "dtypes: int64(5), object(7)\n",
      "memory usage: 2.1+ MB\n"
     ]
    }
   ],
   "source": [
    "#информация о таблице \n",
    "data.info(verbose='true', show_counts='true')"
   ]
  },
  {
   "cell_type": "code",
   "execution_count": 6,
   "id": "8fcc6a74-262e-4b54-b30a-0c0f9e364db9",
   "metadata": {},
   "outputs": [
    {
     "data": {
      "text/plain": [
       "Country               object\n",
       "City                  object\n",
       "AQI Value              int64\n",
       "AQI Category          object\n",
       "CO AQI Value           int64\n",
       "CO AQI Category       object\n",
       "Ozone AQI Value        int64\n",
       "Ozone AQI Category    object\n",
       "NO2 AQI Value          int64\n",
       "NO2 AQI Category      object\n",
       "PM2.5 AQI Value        int64\n",
       "PM2.5 AQI Category    object\n",
       "dtype: object"
      ]
     },
     "execution_count": 6,
     "metadata": {},
     "output_type": "execute_result"
    }
   ],
   "source": [
    "#тип данных\n",
    "data.dtypes"
   ]
  },
  {
   "cell_type": "code",
   "execution_count": 7,
   "id": "d51db84d-d391-4a7a-aaa0-8da40c020afa",
   "metadata": {},
   "outputs": [
    {
     "name": "stdout",
     "output_type": "stream",
     "text": [
      "cols =  23463 ; rows = 12\n"
     ]
    }
   ],
   "source": [
    "\n",
    "print ( \"cols = \" , len(data.axes[0]) , \"; rows =\",  len(data.axes[1]) )"
   ]
  },
  {
   "cell_type": "code",
   "execution_count": 8,
   "id": "7ef3440b-263c-4b5b-bef9-c714e22d420c",
   "metadata": {},
   "outputs": [
    {
     "data": {
      "text/plain": [
       "Index(['Country', 'City', 'AQI Value', 'AQI Category', 'CO AQI Value',\n",
       "       'CO AQI Category', 'Ozone AQI Value', 'Ozone AQI Category',\n",
       "       'NO2 AQI Value', 'NO2 AQI Category', 'PM2.5 AQI Value',\n",
       "       'PM2.5 AQI Category'],\n",
       "      dtype='object')"
      ]
     },
     "execution_count": 8,
     "metadata": {},
     "output_type": "execute_result"
    }
   ],
   "source": [
    "data.keys() # название колонок "
   ]
  },
  {
   "cell_type": "code",
   "execution_count": 9,
   "id": "fe991214-e359-408d-bc22-5fa7ac4f189b",
   "metadata": {},
   "outputs": [
    {
     "name": "stdout",
     "output_type": "stream",
     "text": [
      "Country               427\n",
      "City                    1\n",
      "AQI Value               0\n",
      "AQI Category            0\n",
      "CO AQI Value            0\n",
      "CO AQI Category         0\n",
      "Ozone AQI Value         0\n",
      "Ozone AQI Category      0\n",
      "NO2 AQI Value           0\n",
      "NO2 AQI Category        0\n",
      "PM2.5 AQI Value         0\n",
      "PM2.5 AQI Category      0\n",
      "dtype: int64\n"
     ]
    }
   ],
   "source": [
    "print  (data.isna().sum())"
   ]
  },
  {
   "cell_type": "code",
   "execution_count": 10,
   "id": "4e0a5697-42d6-42c5-b8f0-e089da3b102f",
   "metadata": {},
   "outputs": [
    {
     "name": "stdout",
     "output_type": "stream",
     "text": [
      "Number of duplicates: 0\n"
     ]
    }
   ],
   "source": [
    "duplicates = data.duplicated()\n",
    "print(\"Number of duplicates:\", duplicates.sum())\n",
    "#print(\"Number of rows before removing duplicates:\", len(data))\n",
    "#duplicates = data.duplicated()\n",
    "#print(\"Number of duplicates:\", duplicates.sum())\n",
    "#data = data.drop_duplicates()\n",
    "#print(\"Number of rows after removing duplicates:\", len(data))\n",
    "\n",
    "# ¯\\_(ツ)_/¯ ну вроде нет дубликатов. "
   ]
  },
  {
   "cell_type": "code",
   "execution_count": 11,
   "id": "1077c19c-cf2a-4cbc-a806-2a1d3f5322cc",
   "metadata": {},
   "outputs": [],
   "source": [
    "# как я понимаю доминирует строковый тип который определяется как object"
   ]
  },
  {
   "cell_type": "code",
   "execution_count": 12,
   "id": "9a550fa0-eae0-45a1-8c08-eda2424bef45",
   "metadata": {},
   "outputs": [],
   "source": [
    "# да много значенй в country и одно cyty"
   ]
  },
  {
   "cell_type": "code",
   "execution_count": 13,
   "id": "8a0af500-5f1a-48e5-b3d9-b0559b38dbbb",
   "metadata": {},
   "outputs": [
    {
     "data": {
      "image/png": "[encoded data removed]",
      "text/plain": [
       "<Figure size 640x480 with 1 Axes>"
      ]
     },
     "metadata": {},
     "output_type": "display_data"
    }
   ],
   "source": [
    "fig, ax = plt.subplots()\n",
    "ax = data.boxplot()\n",
    "ax.set_xticklabels(ax.get_xticklabels(), rotation=90)\n",
    "plt.tight_layout()\n",
    "plt.show() # ееееее рок!"
   ]
  },
  {
   "cell_type": "code",
   "execution_count": 14,
   "id": "166d18f7-9258-4abe-98be-d2d9ecfed5da",
   "metadata": {},
   "outputs": [],
   "source": [
    "# очень много вбросов . "
   ]
  },
  {
   "cell_type": "code",
   "execution_count": null,
   "id": "65a30de5-05ae-42cd-ae2b-d014a0641b73",
   "metadata": {},
   "outputs": [],
   "source": []
  },
  {
   "cell_type": "code",
   "execution_count": 15,
   "id": "f75a4e36-23bc-4298-b83a-e340cf24de74",
   "metadata": {},
   "outputs": [],
   "source": [
    "numeric_data = data.select_dtypes(exclude =['object'])\n",
    "df = pd.DataFrame(numeric_data)"
   ]
  },
  {
   "cell_type": "code",
   "execution_count": 16,
   "id": "33319eda-6c44-4299-8024-8b4692207db7",
   "metadata": {},
   "outputs": [
    {
     "data": {
      "text/plain": [
       "array([[<Axes: title={'center': 'AQI Value'}>,\n",
       "        <Axes: title={'center': 'CO AQI Value'}>],\n",
       "       [<Axes: title={'center': 'Ozone AQI Value'}>,\n",
       "        <Axes: title={'center': 'NO2 AQI Value'}>],\n",
       "       [<Axes: title={'center': 'PM2.5 AQI Value'}>, <Axes: >]],\n",
       "      dtype=object)"
      ]
     },
     "execution_count": 16,
     "metadata": {},
     "output_type": "execute_result"
    },
    {
     "data": {
      "image/png": "[encoded data removed]",
      "text/plain": [
       "<Figure size 640x480 with 6 Axes>"
      ]
     },
     "metadata": {},
     "output_type": "display_data"
    }
   ],
   "source": [
    "df.hist()"
   ]
  },
  {
   "cell_type": "code",
   "execution_count": 17,
   "id": "26c71082-535d-45a3-a4ab-77164db97623",
   "metadata": {},
   "outputs": [],
   "source": [
    "#df.apply(lambda x: np.log(x))"
   ]
  },
  {
   "cell_type": "code",
   "execution_count": 18,
   "id": "6ed4eb73-7480-4cee-a3d9-ecd6003ba726",
   "metadata": {},
   "outputs": [
    {
     "data": {
      "image/png": "[encoded data removed]",
      "text/plain": [
       "<Figure size 640x480 with 1 Axes>"
      ]
     },
     "metadata": {},
     "output_type": "display_data"
    },
    {
     "data": {
      "image/png": "[encoded data removed]",
      "text/plain": [
       "<Figure size 640x480 with 1 Axes>"
      ]
     },
     "metadata": {},
     "output_type": "display_data"
    },
    {
     "data": {
      "image/png": "[encoded data removed]",
      "text/plain": [
       "<Figure size 640x480 with 1 Axes>"
      ]
     },
     "metadata": {},
     "output_type": "display_data"
    },
    {
     "data": {
      "image/png": "[encoded data removed]",
      "text/plain": [
       "<Figure size 640x480 with 1 Axes>"
      ]
     },
     "metadata": {},
     "output_type": "display_data"
    },
    {
     "data": {
      "image/png": "[encoded data removed]",
      "text/plain": [
       "<Figure size 640x480 with 1 Axes>"
      ]
     },
     "metadata": {},
     "output_type": "display_data"
    }
   ],
   "source": [
    "for column in df:\n",
    "    if np.issubdtype(df[column].dtype, np.number):\n",
    "        values = df[column].dropna()\n",
    "        values = df[column].apply(lambda x: np.log(x+1))\n",
    "        pd.DataFrame(values).boxplot(vert=False)\n",
    "    plt.tight_layout()\n",
    "    plt.show()"
   ]
  },
  {
   "cell_type": "code",
   "execution_count": 19,
   "id": "06f3d402-eaf0-4858-941f-292b18b033b7",
   "metadata": {},
   "outputs": [],
   "source": [
    "#####################################\n",
    "\n",
    "#          #    ######          #     #          #####\n",
    "#         # #   #     #         ##    #         #     #\n",
    "#        #   #  #     #         # #   #               #\n",
    "#       #     # ######          #  #  #          #####\n",
    "#       ####### #     #         #   # #         #\n",
    "#       #     # #     #         #    ##         #\n",
    "####### #     # ######          #     #         #######\n",
    "\n"
   ]
  },
  {
   "cell_type": "code",
   "execution_count": 20,
   "id": "25124efb-a913-40f2-b340-3df5d2f85d9c",
   "metadata": {},
   "outputs": [],
   "source": [
    "from sklearn.tree import DecisionTreeClassifier\n",
    "from sklearn.preprocessing import StandardScaler\n",
    "from sklearn.model_selection import train_test_split\n",
    "from sklearn.preprocessing import OneHotEncoder"
   ]
  },
  {
   "cell_type": "code",
   "execution_count": 21,
   "id": "d9949bc9-4b7a-457a-80c4-a374dd7b6e5f",
   "metadata": {},
   "outputs": [
    {
     "name": "stdout",
     "output_type": "stream",
     "text": [
      "                        Country              City  AQI Value AQI Category   \n",
      "0            Russian Federation        Praskoveya         51     Moderate  \\\n",
      "1                        Brazil  Presidente Dutra         41         Good   \n",
      "2                         Italy   Priolo Gargallo         66     Moderate   \n",
      "3                        Poland         Przasnysz         34         Good   \n",
      "4                        France          Punaauia         22         Good   \n",
      "...                         ...               ...        ...          ...   \n",
      "23458                     India      Gursahaiganj        184    Unhealthy   \n",
      "23459                    France            Sceaux         50         Good   \n",
      "23460                     India          Mormugao         50         Good   \n",
      "23461  United States of America       Westerville         71     Moderate   \n",
      "23462                  Malaysia            Marang         70     Moderate   \n",
      "\n",
      "       CO AQI Value CO AQI Category  Ozone AQI Value Ozone AQI Category   \n",
      "0                 1            Good               36               Good  \\\n",
      "1                 1            Good                5               Good   \n",
      "2                 1            Good               39               Good   \n",
      "3                 1            Good               34               Good   \n",
      "4                 0            Good               22               Good   \n",
      "...             ...             ...              ...                ...   \n",
      "23458             3            Good              154          Unhealthy   \n",
      "23459             1            Good               20               Good   \n",
      "23460             1            Good               22               Good   \n",
      "23461             1            Good               44               Good   \n",
      "23462             1            Good               38               Good   \n",
      "\n",
      "       NO2 AQI Value NO2 AQI Category  PM2.5 AQI Value PM2.5 AQI Category  \n",
      "0                  0             Good               51           Moderate  \n",
      "1                  1             Good               41               Good  \n",
      "2                  2             Good               66           Moderate  \n",
      "3                  0             Good               20               Good  \n",
      "4                  0             Good                6               Good  \n",
      "...              ...              ...              ...                ...  \n",
      "23458              2             Good              184          Unhealthy  \n",
      "23459              5             Good               50               Good  \n",
      "23460              1             Good               50               Good  \n",
      "23461              2             Good               71           Moderate  \n",
      "23462              0             Good               70           Moderate  \n",
      "\n",
      "[23463 rows x 12 columns]\n"
     ]
    }
   ],
   "source": [
    "print (data)\n",
    "#remember what was there at all......."
   ]
  },
  {
   "cell_type": "code",
   "execution_count": 22,
   "id": "98879b1b-5acc-4f42-8d3e-70215ad55236",
   "metadata": {},
   "outputs": [],
   "source": [
    "features = data.drop('City', axis = 1)"
   ]
  },
  {
   "cell_type": "code",
   "execution_count": 23,
   "id": "c559a303-4144-407f-9f08-fa1880855178",
   "metadata": {},
   "outputs": [],
   "source": [
    "#print(features) check \n"
   ]
  },
  {
   "cell_type": "code",
   "execution_count": 24,
   "id": "82fcb79c-2feb-4a6b-91a0-0cd456f0acc0",
   "metadata": {},
   "outputs": [],
   "source": [
    "target = data['AQI Value']"
   ]
  },
  {
   "cell_type": "code",
   "execution_count": 25,
   "id": "8f4734de-8aa4-4c00-9ff2-94313c7963e4",
   "metadata": {},
   "outputs": [],
   "source": [
    "#data.select_dtypes(exclude =['object'])\n",
    "features = features.drop('AQI Value',  axis = 1)"
   ]
  },
  {
   "cell_type": "code",
   "execution_count": 26,
   "id": "e99f78f9-12aa-4596-b5a6-13e4c3b656e8",
   "metadata": {},
   "outputs": [
    {
     "name": "stdout",
     "output_type": "stream",
     "text": [
      "                        Country AQI Category  CO AQI Value CO AQI Category   \n",
      "0            Russian Federation     Moderate             1            Good  \\\n",
      "1                        Brazil         Good             1            Good   \n",
      "2                         Italy     Moderate             1            Good   \n",
      "3                        Poland         Good             1            Good   \n",
      "4                        France         Good             0            Good   \n",
      "...                         ...          ...           ...             ...   \n",
      "23458                     India    Unhealthy             3            Good   \n",
      "23459                    France         Good             1            Good   \n",
      "23460                     India         Good             1            Good   \n",
      "23461  United States of America     Moderate             1            Good   \n",
      "23462                  Malaysia     Moderate             1            Good   \n",
      "\n",
      "       Ozone AQI Value Ozone AQI Category  NO2 AQI Value NO2 AQI Category   \n",
      "0                   36               Good              0             Good  \\\n",
      "1                    5               Good              1             Good   \n",
      "2                   39               Good              2             Good   \n",
      "3                   34               Good              0             Good   \n",
      "4                   22               Good              0             Good   \n",
      "...                ...                ...            ...              ...   \n",
      "23458              154          Unhealthy              2             Good   \n",
      "23459               20               Good              5             Good   \n",
      "23460               22               Good              1             Good   \n",
      "23461               44               Good              2             Good   \n",
      "23462               38               Good              0             Good   \n",
      "\n",
      "       PM2.5 AQI Value PM2.5 AQI Category  \n",
      "0                   51           Moderate  \n",
      "1                   41               Good  \n",
      "2                   66           Moderate  \n",
      "3                   20               Good  \n",
      "4                    6               Good  \n",
      "...                ...                ...  \n",
      "23458              184          Unhealthy  \n",
      "23459               50               Good  \n",
      "23460               50               Good  \n",
      "23461               71           Moderate  \n",
      "23462               70           Moderate  \n",
      "\n",
      "[23463 rows x 10 columns]\n",
      "Country               object\n",
      "AQI Category          object\n",
      "CO AQI Value           int64\n",
      "CO AQI Category       object\n",
      "Ozone AQI Value        int64\n",
      "Ozone AQI Category    object\n",
      "NO2 AQI Value          int64\n",
      "NO2 AQI Category      object\n",
      "PM2.5 AQI Value        int64\n",
      "PM2.5 AQI Category    object\n",
      "dtype: object\n"
     ]
    }
   ],
   "source": [
    "print(features)\n",
    "print(features.dtypes)"
   ]
  },
  {
   "cell_type": "code",
   "execution_count": 27,
   "id": "f9abebfc-bcf4-45ea-a069-d0ba89010f13",
   "metadata": {},
   "outputs": [],
   "source": [
    "data_train, data_test, AQIV_train, AQIV_test = train_test_split(features, target, test_size = 0.3, random_state = 32)"
   ]
  },
  {
   "cell_type": "code",
   "execution_count": 28,
   "id": "f59ed48a-a94f-4005-8e67-d9aeaf2f9156",
   "metadata": {},
   "outputs": [
    {
     "name": "stdout",
     "output_type": "stream",
     "text": [
      "                           Country                    AQI Category   \n",
      "493    United Republic of Tanzania                            Good  \\\n",
      "6077                        Brazil                        Moderate   \n",
      "12826                       Brazil                       Unhealthy   \n",
      "5017      United States of America                        Moderate   \n",
      "6178            Russian Federation                            Good   \n",
      "...                            ...                             ...   \n",
      "19527     United States of America                        Moderate   \n",
      "20414                        India                       Unhealthy   \n",
      "9526                   El Salvador                        Moderate   \n",
      "9771                         India  Unhealthy for Sensitive Groups   \n",
      "10967                        Italy                            Good   \n",
      "\n",
      "       CO AQI Value CO AQI Category  Ozone AQI Value Ozone AQI Category   \n",
      "493               0            Good               14               Good  \\\n",
      "6077              3            Good               13               Good   \n",
      "12826             4            Good                4               Good   \n",
      "5017              1            Good               10               Good   \n",
      "6178              1            Good               35               Good   \n",
      "...             ...             ...              ...                ...   \n",
      "19527             1            Good               34               Good   \n",
      "20414             1            Good               40               Good   \n",
      "9526              2            Good                6               Good   \n",
      "9771              0            Good               27               Good   \n",
      "10967             1            Good               45               Good   \n",
      "\n",
      "       NO2 AQI Value NO2 AQI Category  PM2.5 AQI Value   \n",
      "493                0             Good               20  \\\n",
      "6077               6             Good               96   \n",
      "12826             16             Good              150   \n",
      "5017              15             Good               58   \n",
      "6178               0             Good               42   \n",
      "...              ...              ...              ...   \n",
      "19527              3             Good               51   \n",
      "20414              0             Good              175   \n",
      "9526               8             Good               81   \n",
      "9771               0             Good              114   \n",
      "10967              0             Good               33   \n",
      "\n",
      "                   PM2.5 AQI Category  \n",
      "493                              Good  \n",
      "6077                         Moderate  \n",
      "12826                       Unhealthy  \n",
      "5017                         Moderate  \n",
      "6178                             Good  \n",
      "...                               ...  \n",
      "19527                        Moderate  \n",
      "20414                       Unhealthy  \n",
      "9526                         Moderate  \n",
      "9771   Unhealthy for Sensitive Groups  \n",
      "10967                            Good  \n",
      "\n",
      "[16424 rows x 10 columns]\n"
     ]
    }
   ],
   "source": [
    "#test\n",
    "print(data_train)"
   ]
  },
  {
   "cell_type": "code",
   "execution_count": 29,
   "id": "a70f5739-9989-4d8d-83f4-e3f3134c22ad",
   "metadata": {},
   "outputs": [
    {
     "name": "stdout",
     "output_type": "stream",
     "text": [
      "[[-0.74555827 -0.7471355  -0.58788542 -0.89383522]\n",
      " [ 0.88544768 -0.78205092  0.57060401  0.50507341]\n",
      " [ 1.42911634 -1.09628967  2.50141973  1.4990348 ]\n",
      " ...\n",
      " [ 0.34177903 -1.02645883  0.95676716  0.22897302]\n",
      " [-0.74555827 -0.29323508 -0.58788542  0.83639387]\n",
      " [-0.20188962  0.33524242 -0.58788542 -0.65454822]]\n"
     ]
    }
   ],
   "source": [
    "scaler = StandardScaler()\n",
    "data_train_fit = scaler.fit_transform(X = data_train.select_dtypes(exclude=['object']))\n",
    "print(data_train_fit)"
   ]
  },
  {
   "cell_type": "code",
   "execution_count": 30,
   "id": "f1ccdd78-7447-4d25-aac5-a3ae5255105f",
   "metadata": {},
   "outputs": [
    {
     "name": "stdout",
     "output_type": "stream",
     "text": [
      "493       20\n",
      "6077      96\n",
      "12826    150\n",
      "5017      58\n",
      "6178      42\n",
      "        ... \n",
      "19527     51\n",
      "20414    175\n",
      "9526      81\n",
      "9771     114\n",
      "10967     45\n",
      "Name: AQI Value, Length: 16424, dtype: int64\n"
     ]
    }
   ],
   "source": [
    "print(AQIV_train)"
   ]
  },
  {
   "cell_type": "code",
   "execution_count": 31,
   "id": "5af2755b-f37f-427a-b5ee-a7224f241a54",
   "metadata": {},
   "outputs": [],
   "source": [
    "#scaler.fit(data_test.select_dtypes(exclude=['object']))\n",
    "data_test_fit = scaler.transform(data_test.select_dtypes(exclude=['object']))"
   ]
  },
  {
   "cell_type": "code",
   "execution_count": 32,
   "id": "9b53d659-3342-4ef0-afa5-4bfb336790c4",
   "metadata": {},
   "outputs": [
    {
     "name": "stdout",
     "output_type": "stream",
     "text": [
      "[[-0.20188962  0.30032701 -0.58788542 -0.63614152]\n",
      " [-0.20188962  0.30032701 -0.39480385 -0.32322775]\n",
      " [-0.20188962 -0.18848883 -0.39480385  0.08171948]\n",
      " ...\n",
      " [-0.74555827 -0.81696633 -0.39480385 -0.91224191]\n",
      " [-0.20188962 -0.08374258  0.18444087 -0.08394075]\n",
      " [-0.20188962 -0.81696633 -0.39480385 -0.48888798]]\n"
     ]
    }
   ],
   "source": [
    "print(data_test_fit)"
   ]
  },
  {
   "cell_type": "code",
   "execution_count": 33,
   "id": "e6e27feb-b48d-46a2-a4ac-c7e6d269d4a9",
   "metadata": {},
   "outputs": [],
   "source": [
    "enc  = OneHotEncoder(handle_unknown='ignore', sparse=False)"
   ]
  },
  {
   "cell_type": "code",
   "execution_count": 34,
   "id": "aa7a37d4-7a70-462b-80cd-be4fe10949e4",
   "metadata": {},
   "outputs": [
    {
     "name": "stderr",
     "output_type": "stream",
     "text": [
      "/home/alehay/.local/lib/python3.10/site-packages/sklearn/preprocessing/_encoders.py:975: FutureWarning: `sparse` was renamed to `sparse_output` in version 1.2 and will be removed in 1.4. `sparse_output` is ignored unless you leave `sparse` to its default value.\n",
      "  warnings.warn(\n"
     ]
    }
   ],
   "source": [
    "enc.fit(data_train.select_dtypes(exclude=['int64']))\n",
    "data_train_OHE =  enc.transform(data_train.select_dtypes(exclude=['int64']))"
   ]
  },
  {
   "cell_type": "code",
   "execution_count": 35,
   "id": "5a84de03-d6d2-4f30-a659-f5c5393d1712",
   "metadata": {},
   "outputs": [
    {
     "name": "stdout",
     "output_type": "stream",
     "text": [
      "[[0. 0. 0. ... 0. 0. 0.]\n",
      " [0. 0. 0. ... 0. 0. 0.]\n",
      " [0. 0. 0. ... 1. 0. 0.]\n",
      " ...\n",
      " [0. 0. 0. ... 0. 0. 0.]\n",
      " [0. 0. 0. ... 0. 1. 0.]\n",
      " [0. 0. 0. ... 0. 0. 0.]]\n"
     ]
    }
   ],
   "source": [
    "print (data_train_OHE)"
   ]
  },
  {
   "cell_type": "code",
   "execution_count": 36,
   "id": "6122a850-75d1-41cb-84f0-36a356a80936",
   "metadata": {},
   "outputs": [
    {
     "name": "stderr",
     "output_type": "stream",
     "text": [
      "/home/alehay/.local/lib/python3.10/site-packages/sklearn/preprocessing/_encoders.py:975: FutureWarning: `sparse` was renamed to `sparse_output` in version 1.2 and will be removed in 1.4. `sparse_output` is ignored unless you leave `sparse` to its default value.\n",
      "  warnings.warn(\n"
     ]
    }
   ],
   "source": [
    "enc.fit(data_test.select_dtypes(exclude=['int64']))\n",
    "data_test_OHE = enc.transform(data_test.select_dtypes(exclude=['int64']))"
   ]
  },
  {
   "cell_type": "code",
   "execution_count": 37,
   "id": "fce34dbd-9845-46ff-9bf1-a8d3b018cd71",
   "metadata": {},
   "outputs": [
    {
     "name": "stdout",
     "output_type": "stream",
     "text": [
      "[[0. 0. 0. ... 0. 0. 0.]\n",
      " [0. 0. 0. ... 0. 0. 0.]\n",
      " [0. 0. 0. ... 0. 0. 0.]\n",
      " ...\n",
      " [0. 0. 0. ... 0. 0. 0.]\n",
      " [0. 0. 0. ... 0. 0. 0.]\n",
      " [0. 0. 0. ... 0. 0. 0.]]\n"
     ]
    }
   ],
   "source": [
    "print(data_test_OHE)"
   ]
  },
  {
   "cell_type": "code",
   "execution_count": 38,
   "id": "53810854-8cec-4834-9599-3a1535549a50",
   "metadata": {},
   "outputs": [],
   "source": [
    "data_train_res = pd.concat([pd.DataFrame(data_train_fit), pd.DataFrame(data_train_OHE)], axis = 1)"
   ]
  },
  {
   "cell_type": "code",
   "execution_count": 39,
   "id": "490501cf-a13c-4167-8b6d-a7a0d023bbfe",
   "metadata": {},
   "outputs": [
    {
     "name": "stdout",
     "output_type": "stream",
     "text": [
      "            0         1         2         3    0    1    2    3    4    5     \n",
      "0     -0.745558 -0.747135 -0.587885 -0.893835  0.0  0.0  0.0  0.0  0.0  0.0  \\\n",
      "1      0.885448 -0.782051  0.570604  0.505073  0.0  0.0  0.0  0.0  0.0  0.0   \n",
      "2      1.429116 -1.096290  2.501420  1.499035  0.0  0.0  0.0  0.0  0.0  0.0   \n",
      "3     -0.201890 -0.886797  2.308338 -0.194381  0.0  0.0  0.0  0.0  0.0  0.0   \n",
      "4     -0.201890 -0.013912 -0.587885 -0.488888  0.0  0.0  0.0  0.0  0.0  0.0   \n",
      "...         ...       ...       ...       ...  ...  ...  ...  ...  ...  ...   \n",
      "16419 -0.201890 -0.048827 -0.008641 -0.323228  0.0  0.0  0.0  0.0  0.0  0.0   \n",
      "16420 -0.201890  0.160665 -0.587885  1.959202  0.0  0.0  0.0  0.0  0.0  0.0   \n",
      "16421  0.341779 -1.026459  0.956767  0.228973  0.0  0.0  0.0  0.0  0.0  0.0   \n",
      "16422 -0.745558 -0.293235 -0.587885  0.836394  0.0  0.0  0.0  0.0  0.0  0.0   \n",
      "16423 -0.201890  0.335242 -0.587885 -0.654548  0.0  0.0  0.0  0.0  0.0  0.0   \n",
      "\n",
      "       ...  185  186  187  188  189  190  191  192  193  194  \n",
      "0      ...  0.0  0.0  1.0  0.0  1.0  0.0  0.0  0.0  0.0  0.0  \n",
      "1      ...  0.0  0.0  1.0  0.0  0.0  0.0  1.0  0.0  0.0  0.0  \n",
      "2      ...  0.0  0.0  1.0  0.0  0.0  0.0  0.0  1.0  0.0  0.0  \n",
      "3      ...  0.0  0.0  1.0  0.0  0.0  0.0  1.0  0.0  0.0  0.0  \n",
      "4      ...  0.0  0.0  1.0  0.0  1.0  0.0  0.0  0.0  0.0  0.0  \n",
      "...    ...  ...  ...  ...  ...  ...  ...  ...  ...  ...  ...  \n",
      "16419  ...  0.0  0.0  1.0  0.0  0.0  0.0  1.0  0.0  0.0  0.0  \n",
      "16420  ...  0.0  0.0  1.0  0.0  0.0  0.0  0.0  1.0  0.0  0.0  \n",
      "16421  ...  0.0  0.0  1.0  0.0  0.0  0.0  1.0  0.0  0.0  0.0  \n",
      "16422  ...  0.0  0.0  1.0  0.0  0.0  0.0  0.0  0.0  1.0  0.0  \n",
      "16423  ...  0.0  0.0  1.0  0.0  1.0  0.0  0.0  0.0  0.0  0.0  \n",
      "\n",
      "[16424 rows x 199 columns]\n"
     ]
    }
   ],
   "source": [
    "print(data_train_res)"
   ]
  },
  {
   "cell_type": "code",
   "execution_count": 40,
   "id": "a2778be8-fd16-4b93-a6c2-251339db707b",
   "metadata": {},
   "outputs": [],
   "source": [
    "data_test_res = pd.concat([pd.DataFrame(data_test_fit), pd.DataFrame(data_test_OHE)], axis = 1)"
   ]
  },
  {
   "cell_type": "code",
   "execution_count": 41,
   "id": "98227252-47ba-4098-995f-aa3ebdc282f3",
   "metadata": {},
   "outputs": [
    {
     "name": "stdout",
     "output_type": "stream",
     "text": [
      "           0         1         2         3    0    1    2    3    4    5     \n",
      "0    -0.201890  0.300327 -0.587885 -0.636142  0.0  0.0  0.0  0.0  0.0  0.0  \\\n",
      "1    -0.201890  0.300327 -0.394804 -0.323228  0.0  0.0  0.0  0.0  0.0  0.0   \n",
      "2    -0.201890 -0.188489 -0.394804  0.081719  0.0  0.0  0.0  0.0  0.0  0.0   \n",
      "3    -0.745558 -0.677305 -0.587885 -0.599328  0.0  0.0  0.0  0.0  0.0  0.0   \n",
      "4    -0.201890 -0.118658  0.763686 -0.360041  0.0  0.0  0.0  0.0  0.0  0.0   \n",
      "...        ...       ...       ...       ...  ...  ...  ...  ...  ...  ...   \n",
      "7034  0.341779 -1.201036 -0.587885 -0.286414  0.0  0.0  0.0  0.0  0.0  0.0   \n",
      "7035 -0.201890 -0.013912 -0.008641 -0.102347  0.0  0.0  0.0  0.0  0.0  0.0   \n",
      "7036 -0.745558 -0.816966 -0.394804 -0.912242  0.0  0.0  0.0  0.0  0.0  0.0   \n",
      "7037 -0.201890 -0.083743  0.184441 -0.083941  0.0  0.0  0.0  0.0  0.0  0.0   \n",
      "7038 -0.201890 -0.816966 -0.394804 -0.488888  0.0  0.0  0.0  0.0  0.0  0.0   \n",
      "\n",
      "      ...  165  166  167  168  169  170  171  172  173  174  \n",
      "0     ...  0.0  0.0  1.0  0.0  1.0  0.0  0.0  0.0  0.0  0.0  \n",
      "1     ...  0.0  0.0  1.0  0.0  0.0  0.0  1.0  0.0  0.0  0.0  \n",
      "2     ...  0.0  0.0  1.0  0.0  0.0  0.0  1.0  0.0  0.0  0.0  \n",
      "3     ...  0.0  0.0  1.0  0.0  1.0  0.0  0.0  0.0  0.0  0.0  \n",
      "4     ...  0.0  0.0  1.0  0.0  1.0  0.0  0.0  0.0  0.0  0.0  \n",
      "...   ...  ...  ...  ...  ...  ...  ...  ...  ...  ...  ...  \n",
      "7034  ...  0.0  0.0  1.0  0.0  0.0  0.0  1.0  0.0  0.0  0.0  \n",
      "7035  ...  0.0  0.0  1.0  0.0  0.0  0.0  1.0  0.0  0.0  0.0  \n",
      "7036  ...  0.0  0.0  1.0  0.0  1.0  0.0  0.0  0.0  0.0  0.0  \n",
      "7037  ...  0.0  0.0  1.0  0.0  0.0  0.0  1.0  0.0  0.0  0.0  \n",
      "7038  ...  0.0  0.0  1.0  0.0  1.0  0.0  0.0  0.0  0.0  0.0  \n",
      "\n",
      "[7039 rows x 179 columns]\n"
     ]
    }
   ],
   "source": [
    "print(data_test_res)"
   ]
  },
  {
   "cell_type": "code",
   "execution_count": 42,
   "id": "e7890a56-7fd1-41d6-a18f-e548684848e5",
   "metadata": {},
   "outputs": [],
   "source": [
    "#видно что данные нормализовались, числовые значение теперь подают в диапазон от -1 до 1 "
   ]
  },
  {
   "cell_type": "code",
   "execution_count": 43,
   "id": "27f5ba90-aa12-4b6b-a2ed-ae70e1710f1e",
   "metadata": {},
   "outputs": [],
   "source": [
    "# булевы значения которые определяют признак преобрели значения 0 или 1 . "
   ]
  }
 ],
 "metadata": {
  "kernelspec": {
   "display_name": "Python 3 (ipykernel)",
   "language": "python",
   "name": "python3"
  },
  "language_info": {
   "codemirror_mode": {
    "name": "ipython",
    "version": 3
   },
   "file_extension": ".py",
   "mimetype": "text/x-python",
   "name": "python",
   "nbconvert_exporter": "python",
   "pygments_lexer": "ipython3",
   "version": "3.10.12"
  }
 },
 "nbformat": 4,
 "nbformat_minor": 5
}
